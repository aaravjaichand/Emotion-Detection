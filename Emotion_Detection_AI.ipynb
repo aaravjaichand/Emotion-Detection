{
  "cells": [
    {
      "cell_type": "markdown",
      "metadata": {
        "id": "view-in-github",
        "colab_type": "text"
      },
      "source": [
        "<a href=\"https://colab.research.google.com/github/aj4130/EmotionDetection/blob/main/Emotion_Detection_AI.ipynb\" target=\"_parent\"><img src=\"https://colab.research.google.com/assets/colab-badge.svg\" alt=\"Open In Colab\"/></a>"
      ]
    },
    {
      "cell_type": "code",
      "source": [
        "#@title Numbered Index File Selector  { display-mode: \"form\" }\n",
        "\n",
        "from google.colab import drive\n",
        "from pathlib import Path\n",
        "import tensorflow as tf\n",
        "import numpy as np\n",
        "from PIL import Image\n",
        "import matplotlib.pyplot as plt# Import:\n",
        "\n",
        "drive.mount(\"/content/gdrive\", force_remount=False)\n",
        "\n",
        "model_path = '/content/gdrive/My Drive/cnn_model'\n",
        "loaded_model = tf.keras.models.load_model(model_path)\n",
        "\n",
        "\n",
        "\n",
        "def program():\n",
        "  predictions = loaded_model.predict(np.expand_dims(input_data, axis=0))\n",
        "\n",
        "  predicted_class = np.argmax(predictions)\n",
        "  emotion_labels = {0:\"ANGRY\",1:\"HAPPY\",2:\"SAD\",3:\"SURPRISE\",4:\"NEUTRAL\"}\n",
        "\n",
        "  input_image = input_data.squeeze()\n",
        "  plt.imshow(input_image, cmap='gray')\n",
        "  plt.axis('off')\n",
        "  plt.title(f'Predicted Emotion: {emotion_labels[predicted_class]}')\n",
        "  plt.show()\n",
        "\n",
        "emotionItemDict = {}\n",
        "imageDict = {}\n",
        "def show_folder_contents(folder_path, typeF):\n",
        "  folder = Path(folder_path)\n",
        "  i = 1\n",
        "  for item in folder.iterdir():\n",
        "      if typeF == \"NO\":\n",
        "        print(i, \":\", item.name)\n",
        "      elif typeF:\n",
        "        print(i, \":\", item.name)\n",
        "        emotionItemDict[i] = item.name\n",
        "      else:\n",
        "        print(i, \":\", item.name)\n",
        "        imageDict[i] = item.name\n",
        "\n",
        "      i += 1\n",
        "\n",
        "\n",
        "\n",
        "while True:\n",
        "  show_folder_contents(\"/content/gdrive/My Drive/imagedatabase/\", True)\n",
        "  while True:\n",
        "    emotion = int(input(\"Test emotion: \"))\n",
        "    if emotion not in emotionItemDict:\n",
        "      print(\"Enter Proper Index\")\n",
        "    else:\n",
        "      break\n",
        "  show_folder_contents(\"/content/gdrive/My Drive/imagedatabase/\" + emotionItemDict[emotion], False)\n",
        "  while True:\n",
        "    photo = int(input(\"Name of image)\"))\n",
        "    if photo not in imageDict:\n",
        "      print(\"Enter Proper Index\")\n",
        "    else:\n",
        "      break\n",
        "  input_image_path = \"/content/gdrive/My Drive/imagedatabase/\" + emotionItemDict[emotion] + \"/\" + imageDict[photo]\n",
        "\n",
        "  input_image = Image.open(input_image_path)\n",
        "  input_data = np.array(input_image)\n",
        "  program()\n",
        "  input_image = input_data.squeeze()\n",
        "  plt.imshow(input_image, cmap='gray')\n",
        "  plt.axis('off')\n",
        "\n",
        "\n",
        "  exit = input(\"Go again?\")\n",
        "\n",
        "  if exit == \"no\" or exit == \"No\":\n",
        "    break"
      ],
      "metadata": {
        "id": "89lfBpcwZEfB"
      },
      "execution_count": null,
      "outputs": []
    },
    {
      "cell_type": "code",
      "source": [],
      "metadata": {
        "id": "vgsRbvCmhFV0"
      },
      "execution_count": null,
      "outputs": []
    },
    {
      "cell_type": "code",
      "execution_count": null,
      "metadata": {
        "colab": {
          "base_uri": "https://localhost:8080/",
          "height": 66,
          "referenced_widgets": [
            "5fa2700216124080a8c775f7b9f17b44",
            "3a2bda1f1a6449e2acfa69f21e25d1e6",
            "d2906054f2104e1b9cee7af8007a0090"
          ]
        },
        "id": "3A_xOWgRmLao",
        "outputId": "3c433320-711d-41ff-df8c-8a99b146545c"
      },
      "outputs": [
        {
          "output_type": "stream",
          "name": "stdout",
          "text": [
            "Drive already mounted at /content/gdrive; to attempt to forcibly remount, call drive.mount(\"/content/gdrive\", force_remount=True).\n"
          ]
        },
        {
          "output_type": "display_data",
          "data": {
            "text/plain": [
              "FileUpload(value={}, accept='.jpg,.png,.jpeg', description='Upload')"
            ],
            "application/vnd.jupyter.widget-view+json": {
              "version_major": 2,
              "version_minor": 0,
              "model_id": "5fa2700216124080a8c775f7b9f17b44"
            }
          },
          "metadata": {}
        }
      ],
      "source": [
        "#@title Image Drop Selector  { display-mode: \"form\" }\n",
        "\n",
        "from google.colab import drive\n",
        "from pathlib import Path\n",
        "import tensorflow as tf\n",
        "import numpy as np\n",
        "from PIL import Image\n",
        "import matplotlib.pyplot as plt\n",
        "import ipywidgets as widgets\n",
        "from IPython.display import display\n",
        "\n",
        "drive.mount(\"/content/gdrive\", force_remount=False)\n",
        "\n",
        "model_path = '/content/gdrive/My Drive/cnn_model'\n",
        "loaded_model = tf.keras.models.load_model(model_path)\n",
        "\n",
        "emotion_labels = {0: \"ANGRY\", 1: \"HAPPY\", 2: \"SAD\", 3: \"SURPRISE\", 4: \"NEUTRAL\"}\n",
        "\n",
        "def predict_emotion(input_data):\n",
        "    predictions = loaded_model.predict(np.expand_dims(input_data, axis=0))\n",
        "    predicted_class = np.argmax(predictions)\n",
        "    return emotion_labels[predicted_class]\n",
        "\n",
        "def on_file_upload(change):\n",
        "    with open(file_upload.metadata[0]['name'], \"wb\") as f:\n",
        "        f.write(file_upload.data[-1])\n",
        "    input_image = Image.open(file_upload.metadata[0]['name'])\n",
        "    input_data = np.array(input_image)\n",
        "    predicted_emotion = predict_emotion(input_data)\n",
        "\n",
        "    plt.imshow(input_data, cmap='gray')\n",
        "    plt.axis('off')\n",
        "    plt.title(f'Detected Emotion: {predicted_emotion}')\n",
        "    plt.show()\n",
        "\n",
        "file_upload = widgets.FileUpload(accept=\".jpg,.png,.jpeg\")\n",
        "file_upload.observe(on_file_upload, names='_counter')\n",
        "\n",
        "display(file_upload)\n"
      ]
    }
  ],
  "metadata": {
    "colab": {
      "provenance": [],
      "authorship_tag": "ABX9TyO2XUymJkt4U71R7n/Gsgha",
      "include_colab_link": true
    },
    "kernelspec": {
      "display_name": "Python 3",
      "name": "python3"
    },
    "language_info": {
      "name": "python"
    },
    "widgets": {
      "application/vnd.jupyter.widget-state+json": {
        "5fa2700216124080a8c775f7b9f17b44": {
          "model_module": "@jupyter-widgets/controls",
          "model_name": "FileUploadModel",
          "model_module_version": "1.5.0",
          "state": {
            "_counter": 0,
            "_dom_classes": [],
            "_model_module": "@jupyter-widgets/controls",
            "_model_module_version": "1.5.0",
            "_model_name": "FileUploadModel",
            "_view_count": null,
            "_view_module": "@jupyter-widgets/controls",
            "_view_module_version": "1.5.0",
            "_view_name": "FileUploadView",
            "accept": ".jpg,.png,.jpeg",
            "button_style": "",
            "data": [],
            "description": "Upload",
            "description_tooltip": null,
            "disabled": false,
            "error": "",
            "icon": "upload",
            "layout": "IPY_MODEL_3a2bda1f1a6449e2acfa69f21e25d1e6",
            "metadata": [],
            "multiple": false,
            "style": "IPY_MODEL_d2906054f2104e1b9cee7af8007a0090"
          }
        },
        "3a2bda1f1a6449e2acfa69f21e25d1e6": {
          "model_module": "@jupyter-widgets/base",
          "model_name": "LayoutModel",
          "model_module_version": "1.2.0",
          "state": {
            "_model_module": "@jupyter-widgets/base",
            "_model_module_version": "1.2.0",
            "_model_name": "LayoutModel",
            "_view_count": null,
            "_view_module": "@jupyter-widgets/base",
            "_view_module_version": "1.2.0",
            "_view_name": "LayoutView",
            "align_content": null,
            "align_items": null,
            "align_self": null,
            "border": null,
            "bottom": null,
            "display": null,
            "flex": null,
            "flex_flow": null,
            "grid_area": null,
            "grid_auto_columns": null,
            "grid_auto_flow": null,
            "grid_auto_rows": null,
            "grid_column": null,
            "grid_gap": null,
            "grid_row": null,
            "grid_template_areas": null,
            "grid_template_columns": null,
            "grid_template_rows": null,
            "height": null,
            "justify_content": null,
            "justify_items": null,
            "left": null,
            "margin": null,
            "max_height": null,
            "max_width": null,
            "min_height": null,
            "min_width": null,
            "object_fit": null,
            "object_position": null,
            "order": null,
            "overflow": null,
            "overflow_x": null,
            "overflow_y": null,
            "padding": null,
            "right": null,
            "top": null,
            "visibility": null,
            "width": null
          }
        },
        "d2906054f2104e1b9cee7af8007a0090": {
          "model_module": "@jupyter-widgets/controls",
          "model_name": "ButtonStyleModel",
          "model_module_version": "1.5.0",
          "state": {
            "_model_module": "@jupyter-widgets/controls",
            "_model_module_version": "1.5.0",
            "_model_name": "ButtonStyleModel",
            "_view_count": null,
            "_view_module": "@jupyter-widgets/base",
            "_view_module_version": "1.2.0",
            "_view_name": "StyleView",
            "button_color": null,
            "font_weight": ""
          }
        }
      }
    }
  },
  "nbformat": 4,
  "nbformat_minor": 0
}
