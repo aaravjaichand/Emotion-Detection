{
 "cells": [
  {
   "cell_type": "markdown",
   "metadata": {},
   "source": [
    "# Code"
   ]
  },
  {
   "cell_type": "code",
   "execution_count": null,
   "metadata": {},
   "outputs": [],
   "source": [
    "from google.colab import drive\n",
    "from pathlib import Path\n",
    "import tensorflow as tf\n",
    "import numpy as np\n",
    "from PIL import Image\n",
    "import matplotlib.pyplot as plt\n",
    "import ipywidgets as widgets\n",
    "from IPython.display import display\n",
    "\n",
    "drive.mount(\"/content/gdrive\", force_remount=False)\n",
    "\n",
    "model_path = '/content/gdrive/My Drive/cnn_model'\n",
    "loaded_model = tf.keras.models.load_model(model_path)\n",
    "\n",
    "emotion_labels = {0: \"ANGRY\", 1: \"HAPPY\", 2: \"SAD\", 3: \"SURPRISE\", 4: \"NEUTRAL\"}\n",
    "\n",
    "def predict_emotion(input_data):\n",
    "    predictions = loaded_model.predict(np.expand_dims(input_data, axis=0))\n",
    "    predicted_class = np.argmax(predictions)\n",
    "    return emotion_labels[predicted_class]\n",
    "\n",
    "def on_file_upload(change):\n",
    "    with open(file_upload.metadata[0]['name'], \"wb\") as f:\n",
    "        f.write(file_upload.data[-1])\n",
    "    input_image = Image.open(file_upload.metadata[0]['name'])\n",
    "    input_data = np.array(input_image)\n",
    "    predicted_emotion = predict_emotion(input_data)\n",
    "\n",
    "    plt.imshow(input_data, cmap='gray')\n",
    "    plt.axis('off')\n",
    "    plt.title(f'Detected Emotion: {predicted_emotion}')\n",
    "    plt.show()\n",
    "\n",
    "file_upload = widgets.FileUpload(accept=\".jpg,.png,.jpeg\")\n",
    "file_upload.observe(on_file_upload, names='_counter')\n",
    "\n",
    "display(file_upload)\n",
    "\n",
    "# Desktop File Path to Model: library/Mobile\\ Documents/com\\~apple\\~CloudDocs/personal/coding/Facial\\ Emotion\\ Detection/\n"
   ]
  }
 ],
 "metadata": {
  "language_info": {
   "name": "python"
  }
 },
 "nbformat": 4,
 "nbformat_minor": 2
}
